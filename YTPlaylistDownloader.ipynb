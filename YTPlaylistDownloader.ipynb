{
  "nbformat": 4,
  "nbformat_minor": 0,
  "metadata": {
    "colab": {
      "provenance": []
    },
    "kernelspec": {
      "name": "python3",
      "display_name": "Python 3"
    },
    "language_info": {
      "name": "python"
    }
  },
  "cells": [
    {
      "cell_type": "code",
      "execution_count": null,
      "metadata": {
        "id": "ijQderNnZGgG"
      },
      "outputs": [],
      "source": [
        "!pip install pytube"
      ]
    },
    {
      "cell_type": "code",
      "source": [
        "LINK:str = \"youtube.com/playlist_link\"\n",
        "RESOLUTION:str = \"480p\" #144p 240p 360p 480p 720p 1080p\n",
        "FILE_TYPE:str = \"zip\"\n",
        "\n",
        "badch:str = \"\\\\`*_{}[]()>#+-.!$|\""
      ],
      "metadata": {
        "id": "Z0CS7g01cOy5"
      },
      "execution_count": 10,
      "outputs": []
    },
    {
      "cell_type": "code",
      "source": [
        "from google.colab import drive\n",
        "drive.mount('/content/drive')"
      ],
      "metadata": {
        "id": "TuBTflUArQwp"
      },
      "execution_count": null,
      "outputs": []
    },
    {
      "cell_type": "code",
      "source": [
        "import os\n",
        "import shutil\n",
        "from pytube import Playlist\n",
        "\n",
        "pl = Playlist(LINK)\n",
        "\n",
        "if not os.path.exists(pl.title):\n",
        "  os.mkdir(pl.title)\n",
        "\n",
        "for video in pl.videos:\n",
        "\n",
        "  video_title:str = \"\"\n",
        "\n",
        "  for ch in video.title:\n",
        "    if not ch in badch:\n",
        "      video_title += ch\n",
        "\n",
        "  video.streams.get_highest_resolution().download(filename=f\"{video_title}.mp4\") # Download videos in max resolution\n",
        "  #video.streams.filter(res=RESOLUTION).first().download() # Download videos with specific resolution\n",
        "  print(f\"Downloaded: {video.title}\")\n",
        "\n",
        "  shutil.move(f\"/content/{video_title}.mp4\", f\"/content/{pl.title}/{video_title}.mp4\")\n",
        "\n",
        "shutil.make_archive(f\"{pl.title}\", FILE_TYPE, f\"/content/{pl.title}\")\n",
        "print(f\"{pl.title}.{FILE_TYPE}\")\n",
        "shutil.rmtree(f\"/content/{pl.title}\")\n",
        "\n",
        "shutil.move(f\"/content/{pl.title}.{FILE_TYPE}\", f\"/content/drive/MyDrive/{pl.title}.{FILE_TYPE}\")\n"
      ],
      "metadata": {
        "id": "Z0-HL3r0ZjdN"
      },
      "execution_count": null,
      "outputs": []
    }
  ]
}
